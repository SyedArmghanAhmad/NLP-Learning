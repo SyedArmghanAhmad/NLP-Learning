{
  "nbformat": 4,
  "nbformat_minor": 0,
  "metadata": {
    "colab": {
      "provenance": []
    },
    "kernelspec": {
      "name": "python3",
      "display_name": "Python 3"
    },
    "language_info": {
      "name": "python"
    }
  },
  "cells": [
    {
      "cell_type": "markdown",
      "source": [
        "---\n",
        "\n",
        "### **Purpose of the Code**\n",
        "This script demonstrates the application of **Part-of-Speech (POS) tagging** to identify the grammatical role of words in sentences, such as nouns, verbs, adjectives, etc. It also incorporates stopword removal to focus on meaningful words.\n",
        "\n",
        "---\n",
        "\n",
        "### **Step-by-Step Explanation**\n",
        "\n",
        "#### **1. Import and Setup**\n",
        "```python\n",
        "import nltk\n",
        "nltk.download('punkt_tab')\n",
        "nltk.download('stopwords')\n",
        "nltk.download('averaged_perceptron_tagger_eng')\n",
        "```\n",
        "- **`punkt_tab`**: Provides tokenization rules for splitting text into sentences and words.\n",
        "- **`stopwords`**: A list of commonly used words that can be filtered out (e.g., \"the,\" \"is,\" \"and\").\n",
        "- **`averaged_perceptron_tagger_eng`**: POS tagging model for identifying grammatical roles in English text.\n",
        "\n",
        "---\n",
        "\n",
        "#### **2. Tokenize Paragraph into Sentences**\n",
        "```python\n",
        "sentences = nltk.sent_tokenize(paragraph)\n",
        "sentences\n",
        "```\n",
        "- **`nltk.sent_tokenize`**: Splits the paragraph into individual sentences.\n",
        "\n",
        "---\n",
        "\n",
        "#### **3. Tokenize Words and Remove Stopwords**\n",
        "```python\n",
        "for i in range(len(sentences)):\n",
        "    words = nltk.word_tokenize(sentences[i])\n",
        "    words = [word for word in words if word not in set(stopwords.words('english'))]\n",
        "    pos_tag = nltk.pos_tag(words)\n",
        "    print(pos_tag)\n",
        "```\n",
        "- **`nltk.word_tokenize`**: Splits each sentence into individual words.\n",
        "- **Stopword Filtering**:\n",
        "  - Removes commonly used words using `stopwords.words('english')`.\n",
        "  - The resulting list contains only meaningful words.\n",
        "- **POS Tagging**:\n",
        "  - **`nltk.pos_tag`**: Assigns a grammatical role (POS tag) to each word.\n",
        "  - Example of POS tags:\n",
        "    - **NN**: Noun (singular or mass).\n",
        "    - **VB**: Verb (base form).\n",
        "    - **JJ**: Adjective.\n",
        "    - **RB**: Adverb.\n",
        "\n",
        "---\n",
        "\n",
        "#### **4. POS Tagging for Single Words**\n",
        "```python\n",
        "\"CeaseFire announced for Gaza after one and a half year\".split()\n",
        "for i in \"CeaseFire announced for Gaza after one and a half year\".split():\n",
        "    print(nltk.pos_tag([i]))\n",
        "```\n",
        "- **String Splitting**:\n",
        "  - Splits the string `\"CeaseFire announced for Gaza after one and a half year\"` into individual words.\n",
        "- **POS Tagging**:\n",
        "  - **`nltk.pos_tag([i])`**: Applies POS tagging to each word separately.\n",
        "  - Prints the tag for each word.\n",
        "\n",
        "---\n",
        "\n",
        "### **Output Example**\n",
        "\n",
        "#### **POS Tagging on Sentences**\n",
        "Example for one sentence in the paragraph:\n",
        "```python\n",
        "[('increasing', 'VBG'), ('reliance', 'NN'), ('technology', 'NN'), ('transformed', 'VBD'), ('nearly', 'RB'), ('aspect', 'NN'), ('modern', 'JJ'), ('life', 'NN')]\n",
        "```\n",
        "- **VBG**: Verb, gerund/present participle (e.g., \"increasing\").\n",
        "- **NN**: Noun, singular (e.g., \"reliance\").\n",
        "- **VBD**: Verb, past tense (e.g., \"transformed\").\n",
        "- **RB**: Adverb (e.g., \"nearly\").\n",
        "- **JJ**: Adjective (e.g., \"modern\").\n",
        "\n",
        "#### **POS Tagging for Single Words**\n",
        "Example output for `\"CeaseFire announced for Gaza after one and a half year\"`:\n",
        "```python\n",
        "[('CeaseFire', 'NN')]\n",
        "[('announced', 'VBD')]\n",
        "[('for', 'IN')]\n",
        "[('Gaza', 'NNP')]\n",
        "[('after', 'IN')]\n",
        "[('one', 'CD')]\n",
        "[('and', 'CC')]\n",
        "[('a', 'DT')]\n",
        "[('half', 'NN')]\n",
        "[('year', 'NN')]\n",
        "```\n",
        "\n",
        "---\n",
        "\n",
        "### **Key Takeaways**\n",
        "\n",
        "1. **POS Tagging**:\n",
        "   - Helps identify grammatical roles and structure in a sentence.\n",
        "   - Useful for natural language processing tasks such as parsing, named entity recognition, and text generation.\n",
        "\n",
        "2. **Stopword Removal**:\n",
        "   - Simplifies text by removing non-essential words.\n",
        "   - Allows the focus to be on meaningful and content-specific words.\n",
        "\n",
        "3. **Tagging Individual Words**:\n",
        "   - Useful for analyzing standalone words or short phrases.\n",
        "\n",
        "\n",
        "### **Concepts Used**\n",
        "\n",
        "The following concepts are demonstrated in the code:\n",
        "\n",
        "---\n",
        "\n",
        "#### **1. Tokenization**\n",
        "- **Definition**: Tokenization is the process of splitting a text into smaller units called tokens, which can be words, phrases, or sentences.\n",
        "- **In the Code**:\n",
        "  - `nltk.sent_tokenize`: Splits the paragraph into sentences.\n",
        "  - `nltk.word_tokenize`: Breaks sentences into words.\n",
        "- **Purpose**: Helps in text preprocessing, making it easier to analyze and process text.\n",
        "\n",
        "---\n",
        "\n",
        "#### **2. Stopword Removal**\n",
        "- **Definition**: Stopwords are common words (e.g., \"is,\" \"and,\" \"the\") that do not add significant meaning to the text and can be removed to focus on important words.\n",
        "- **In the Code**:\n",
        "  - `stopwords.words('english')`: Provides a list of stopwords in English.\n",
        "  - `[word for word in words if word not in set(stopwords.words('english'))]`: Filters out stopwords from the tokenized words.\n",
        "- **Purpose**: Reduces noise in the data and simplifies text for analysis.\n",
        "\n",
        "---\n",
        "\n",
        "#### **3. Part-of-Speech (POS) Tagging**\n",
        "- **Definition**: Assigns a grammatical category (e.g., noun, verb, adjective) to each word in a sentence.\n",
        "- **In the Code**:\n",
        "  - `nltk.pos_tag(words)`: Applies POS tagging to the list of words.\n",
        "  - Example Tags:\n",
        "    - **NN**: Noun (e.g., \"technology\").\n",
        "    - **VB**: Verb (e.g., \"transformed\").\n",
        "    - **JJ**: Adjective (e.g., \"modern\").\n",
        "- **Purpose**: Enables understanding of sentence structure and helps in tasks like syntax parsing, named entity recognition, and text summarization.\n",
        "\n",
        "---\n",
        "\n",
        "#### **4. Preprocessing**\n",
        "- **Definition**: Preprocessing refers to preparing raw text data for analysis by cleaning and structuring it.\n",
        "- **In the Code**:\n",
        "  - Combination of stopword removal, tokenization, and POS tagging is part of text preprocessing.\n",
        "- **Purpose**: Essential for NLP tasks such as text classification, sentiment analysis, and machine translation.\n",
        "\n",
        "---\n",
        "\n",
        "#### **5. Iterative Processing**\n",
        "- **Definition**: Processing data in loops to apply transformations step-by-step.\n",
        "- **In the Code**:\n",
        "  - The loop iterates through each sentence to tokenize, remove stopwords, and perform POS tagging.\n",
        "- **Purpose**: Ensures modular and sequential handling of data for easier debugging and analysis.\n",
        "\n",
        "---\n",
        "\n",
        "#### **6. Handling Single Words**\n",
        "- **Definition**: POS tagging applied to individual words for their grammatical roles.\n",
        "- **In the Code**:\n",
        "  - `nltk.pos_tag([i])`: Tags each word in the phrase separately.\n",
        "- **Purpose**: Useful for analyzing short phrases, standalone words, or for lexicographical analysis.\n",
        "\n",
        "---\n",
        "\n",
        "By combining these concepts, the code demonstrates a robust workflow for preprocessing and analyzing text data, foundational to many NLP applications like sentiment analysis, text summarization, and machine translation.\n",
        "\n",
        "This script can serve as a foundation for more advanced NLP tasks, such as parsing sentence structures or extracting key information from text."
      ],
      "metadata": {
        "id": "pXNm8WaU6aqQ"
      }
    },
    {
      "cell_type": "code",
      "execution_count": 15,
      "metadata": {
        "id": "IwX_BJzHnt19"
      },
      "outputs": [],
      "source": [
        "paragraph = \"\"\"\n",
        "The increasing reliance on technology has transformed nearly every aspect of modern life, from how we communicate to how we work and learn.\n",
        " Smartphones, laptops, and other digital devices have become indispensable tools, enabling people to stay connected and access vast amounts of information at their fingertips. Despite the undeniable benefits, this technological shift has brought its own set of challenges.\n",
        "  People often find themselves overwhelmed by the constant flow of notifications, emails, and messages, making it difficult to focus on meaningful tasks.\n",
        "   Furthermore, the rise of social media has led to debates about its impact on mental health, as individuals are exposed to unrealistic standards and excessive comparisons.\n",
        "    While technology offers immense opportunities for innovation and progress, it is equally important to address the societal and personal implications it carries to ensure a balanced and sustainable future.\n",
        "\"\"\""
      ]
    },
    {
      "cell_type": "code",
      "source": [
        "import nltk\n",
        "nltk.download('punkt_tab')\n",
        "sentences = nltk.sent_tokenize(paragraph)"
      ],
      "metadata": {
        "colab": {
          "base_uri": "https://localhost:8080/"
        },
        "id": "201PVL-OxXhJ",
        "outputId": "24b66165-aeeb-45af-9e2a-310a156b2ebd"
      },
      "execution_count": 16,
      "outputs": [
        {
          "output_type": "stream",
          "name": "stderr",
          "text": [
            "[nltk_data] Downloading package punkt_tab to /root/nltk_data...\n",
            "[nltk_data]   Package punkt_tab is already up-to-date!\n"
          ]
        }
      ]
    },
    {
      "cell_type": "code",
      "source": [
        "sentences"
      ],
      "metadata": {
        "colab": {
          "base_uri": "https://localhost:8080/"
        },
        "id": "YC_04TYnxxBg",
        "outputId": "180cab65-1e00-4c96-85d0-1a288ff78e9e"
      },
      "execution_count": 6,
      "outputs": [
        {
          "output_type": "execute_result",
          "data": {
            "text/plain": [
              "['\\nThe increasing reliance on technology has transformed nearly every aspect of modern life, from how we communicate to how we work and learn.',\n",
              " 'Smartphones, laptops, and other digital devices have become indispensable tools, enabling people to stay connected and access vast amounts of information at their fingertips.',\n",
              " 'Despite the undeniable benefits, this technological shift has brought its own set of challenges.',\n",
              " 'People often find themselves overwhelmed by the constant flow of notifications, emails, and messages, making it difficult to focus on meaningful tasks.',\n",
              " 'Furthermore, the rise of social media has led to debates about its impact on mental health, as individuals are exposed to unrealistic standards and excessive comparisons.',\n",
              " 'While technology offers immense opportunities for innovation and progress, it is equally important to address the societal and personal implications it carries to ensure a balanced and sustainable future.']"
            ]
          },
          "metadata": {},
          "execution_count": 6
        }
      ]
    },
    {
      "cell_type": "code",
      "source": [
        "## Awe will find the Pos Tag\n",
        "from nltk.corpus import stopwords\n",
        "nltk.download('stopwords')\n",
        "nltk.download('averaged_perceptron_tagger_eng')\n",
        "for i in range(len(sentences)):\n",
        "    words = nltk.word_tokenize(sentences[i])\n",
        "    words = [ word for word in words if word not in set(stopwords.words('english'))]\n",
        "    #sentences[i]=' '.join(words) # converting all list of the words into sentences\n",
        "    pos_tag = nltk.pos_tag(words)\n",
        "    print(pos_tag)\n",
        ""
      ],
      "metadata": {
        "colab": {
          "base_uri": "https://localhost:8080/"
        },
        "id": "b7m1tyRux231",
        "outputId": "86d9148d-5247-460b-86fb-e7dab142ac27"
      },
      "execution_count": 9,
      "outputs": [
        {
          "output_type": "stream",
          "name": "stderr",
          "text": [
            "[nltk_data] Downloading package stopwords to /root/nltk_data...\n",
            "[nltk_data]   Package stopwords is already up-to-date!\n",
            "[nltk_data] Downloading package averaged_perceptron_tagger_eng to\n",
            "[nltk_data]     /root/nltk_data...\n",
            "[nltk_data]   Unzipping taggers/averaged_perceptron_tagger_eng.zip.\n"
          ]
        },
        {
          "output_type": "stream",
          "name": "stdout",
          "text": [
            "[('The', 'DT'), ('increasing', 'VBG'), ('reliance', 'NN'), ('technology', 'NN'), ('transformed', 'VBD'), ('nearly', 'RB'), ('every', 'DT'), ('aspect', 'NN'), ('modern', 'JJ'), ('life', 'NN'), (',', ','), ('communicate', 'JJ'), ('work', 'NN'), ('learn', 'NN'), ('.', '.')]\n",
            "[('Smartphones', 'NNS'), (',', ','), ('laptops', 'NNS'), (',', ','), ('digital', 'JJ'), ('devices', 'NNS'), ('become', 'VBP'), ('indispensable', 'JJ'), ('tools', 'NNS'), (',', ','), ('enabling', 'VBG'), ('people', 'NNS'), ('stay', 'VBP'), ('connected', 'JJ'), ('access', 'NN'), ('vast', 'JJ'), ('amounts', 'NNS'), ('information', 'NN'), ('fingertips', 'NNS'), ('.', '.')]\n",
            "[('Despite', 'IN'), ('undeniable', 'JJ'), ('benefits', 'NNS'), (',', ','), ('technological', 'JJ'), ('shift', 'NN'), ('brought', 'VBD'), ('set', 'VBN'), ('challenges', 'NNS'), ('.', '.')]\n",
            "[('People', 'NNS'), ('often', 'RB'), ('find', 'VBP'), ('overwhelmed', 'JJ'), ('constant', 'JJ'), ('flow', 'NN'), ('notifications', 'NNS'), (',', ','), ('emails', 'NNS'), (',', ','), ('messages', 'NNS'), (',', ','), ('making', 'VBG'), ('difficult', 'JJ'), ('focus', 'NN'), ('meaningful', 'JJ'), ('tasks', 'NNS'), ('.', '.')]\n",
            "[('Furthermore', 'RB'), (',', ','), ('rise', 'VB'), ('social', 'JJ'), ('media', 'NNS'), ('led', 'VBN'), ('debates', 'NNS'), ('impact', 'VBP'), ('mental', 'JJ'), ('health', 'NN'), (',', ','), ('individuals', 'NNS'), ('exposed', 'VBD'), ('unrealistic', 'JJ'), ('standards', 'NNS'), ('excessive', 'JJ'), ('comparisons', 'NNS'), ('.', '.')]\n",
            "[('While', 'IN'), ('technology', 'NN'), ('offers', 'NNS'), ('immense', 'JJ'), ('opportunities', 'NNS'), ('innovation', 'NN'), ('progress', 'NN'), (',', ','), ('equally', 'RB'), ('important', 'JJ'), ('address', 'NN'), ('societal', 'JJ'), ('personal', 'JJ'), ('implications', 'NNS'), ('carries', 'VBZ'), ('ensure', 'VB'), ('balanced', 'VBN'), ('sustainable', 'JJ'), ('future', 'NN'), ('.', '.')]\n"
          ]
        }
      ]
    },
    {
      "cell_type": "code",
      "source": [
        "\"CeaseFire announced for Gaza after one and a half year\".split()"
      ],
      "metadata": {
        "colab": {
          "base_uri": "https://localhost:8080/"
        },
        "id": "J-9xKv28zKnA",
        "outputId": "42f552af-99cf-4975-efe8-656768c53bce"
      },
      "execution_count": 10,
      "outputs": [
        {
          "output_type": "execute_result",
          "data": {
            "text/plain": [
              "['CeaseFire',\n",
              " 'announced',\n",
              " 'for',\n",
              " 'Gaza',\n",
              " 'after',\n",
              " 'one',\n",
              " 'and',\n",
              " 'a',\n",
              " 'half',\n",
              " 'year']"
            ]
          },
          "metadata": {},
          "execution_count": 10
        }
      ]
    },
    {
      "cell_type": "code",
      "source": [
        "for i in \"CeaseFire announced for Gaza after one and a half year\".split():\n",
        "  print(nltk.pos_tag([i]))"
      ],
      "metadata": {
        "colab": {
          "base_uri": "https://localhost:8080/"
        },
        "id": "OzKkJBcxzU29",
        "outputId": "b102b98d-a696-4b14-f168-8b5bf5dc5826"
      },
      "execution_count": 14,
      "outputs": [
        {
          "output_type": "stream",
          "name": "stdout",
          "text": [
            "[('CeaseFire', 'NN')]\n",
            "[('announced', 'VBD')]\n",
            "[('for', 'IN')]\n",
            "[('Gaza', 'NN')]\n",
            "[('after', 'IN')]\n",
            "[('one', 'CD')]\n",
            "[('and', 'CC')]\n",
            "[('a', 'DT')]\n",
            "[('half', 'NN')]\n",
            "[('year', 'NN')]\n"
          ]
        }
      ]
    }
  ]
}